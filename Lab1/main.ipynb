{
 "cells": [
  {
   "cell_type": "markdown",
   "id": "ec6e7d18-6a6e-4a51-a7cd-0a1152604973",
   "metadata": {},
   "source": [
    "## Лабораторная работа №1 | Вариант 4"
   ]
  },
  {
   "cell_type": "markdown",
   "id": "277877ce-f982-4711-a6a6-2a4a90871409",
   "metadata": {},
   "source": [
    "Выполнил: Кудрявов Леонид Вадимович М8О-08Б-22"
   ]
  },
  {
   "cell_type": "markdown",
   "id": "031f025d-84dc-470f-b839-456a76d9636b",
   "metadata": {},
   "source": [
    "### 1. Numpy"
   ]
  },
  {
   "cell_type": "markdown",
   "id": "6ff3559d-5f3e-4540-9a31-bfb9f42a23da",
   "metadata": {},
   "source": [
    "1. Найти индексы не нулевых элементов массива [1,2,0,0,4,0]"
   ]
  },
  {
   "cell_type": "code",
   "execution_count": null,
   "id": "752bc586-1e3f-4085-85c3-4068b781314f",
   "metadata": {},
   "outputs": [],
   "source": [
    "arr = [1, 2, 0, 0, 4, 0]\n",
    "np.nonzero(arr)"
   ]
  },
  {
   "cell_type": "markdown",
   "id": "0243a0f6-1905-4e2d-9572-9ba49dc003a8",
   "metadata": {},
   "source": [
    "2. Создайте единичную матрицу размером 3х3"
   ]
  },
  {
   "cell_type": "code",
   "execution_count": null,
   "id": "ec6ae581-5adf-459c-bdc7-8b015d9529f6",
   "metadata": {},
   "outputs": [],
   "source": [
    "np.identity(3)"
   ]
  },
  {
   "cell_type": "markdown",
   "id": "8c7d3811-a555-4c02-ada8-e4a70b9dee46",
   "metadata": {},
   "source": [
    "3. Создайте матрицу-шахматную доску 8х8 используя функцию `tile`"
   ]
  },
  {
   "cell_type": "code",
   "execution_count": null,
   "id": "12d0ed34-908c-4840-8b81-457e64dd7b0b",
   "metadata": {},
   "outputs": [],
   "source": [
    "base_pattern = np.array([[0, 1],\n",
    "                         [1, 0]])\n",
    "np.tile(base_pattern, (4, 4))"
   ]
  },
  {
   "cell_type": "markdown",
   "id": "b7ca56e6-a194-4c42-b8a2-307fcf40f648",
   "metadata": {},
   "source": [
    "4. Дан 1D массив, удалите все элементы которые входят в диапазон `[3, 8]` inplace"
   ]
  },
  {
   "cell_type": "code",
   "execution_count": null,
   "id": "1b1d64cd-0e28-400f-8d49-a1274947e150",
   "metadata": {},
   "outputs": [],
   "source": [
    "arr = [0, 4, 4, 2, 1, 4, 8, 7, 10, 15]\n",
    "arr = np.array(arr)\n",
    "mask = (arr > 8) | (arr < 3)\n",
    "arr = arr[mask]\n",
    "arr"
   ]
  },
  {
   "cell_type": "markdown",
   "id": "b3b2cd1e-e996-45e0-b9ed-e12ce653a9c3",
   "metadata": {},
   "source": [
    "5. Создайте случайный вектор размером 10 элементов и замените максимальный элемент на 0"
   ]
  },
  {
   "cell_type": "code",
   "execution_count": null,
   "id": "c40ef785-d750-42ba-ac6e-b777866202a6",
   "metadata": {},
   "outputs": [],
   "source": [
    "vec = np.random.rand(10)\n",
    "vec[vec.argmax()] = 0\n",
    "vec"
   ]
  },
  {
   "cell_type": "markdown",
   "id": "8108b3a8-5ba8-472d-ad6b-095ade8678ef",
   "metadata": {},
   "source": [
    "6. Как распечатать все значения в массиве?"
   ]
  },
  {
   "cell_type": "code",
   "execution_count": null,
   "id": "89b58c0a-bd5d-435a-be45-719fdfce662a",
   "metadata": {},
   "outputs": [],
   "source": [
    "print(*vec)"
   ]
  },
  {
   "cell_type": "markdown",
   "id": "98511652-db85-4506-a5b8-f94b05d35ce9",
   "metadata": {},
   "source": [
    "7. Рассмотрим случайный вектор с формой 100х2, представляющей координаты, и найдем расстояния от точки к точке"
   ]
  },
  {
   "cell_type": "code",
   "execution_count": null,
   "id": "ca72cdb0-ed24-460d-81a9-220b850d62c3",
   "metadata": {},
   "outputs": [],
   "source": [
    "vec = np.random.randint(-100, 100, (100, 2))\n",
    "X = vec[:, np.newaxis, :]\n",
    "Y = vec[np.newaxis, :, :]\n",
    "diff = X - Y\n",
    "np.sqrt(np.sum(diff**2, axis=-1))"
   ]
  },
  {
   "cell_type": "markdown",
   "id": "1412a70a-2a1e-406e-a227-afc9a47ed659",
   "metadata": {},
   "source": [
    "8. Как конвертировать массив float(32 bit) к массиву целых чисел (integer 32 bit) in place?"
   ]
  },
  {
   "cell_type": "code",
   "execution_count": null,
   "id": "22bb8bbf-52dd-4d3c-86c0-c4e9637b909b",
   "metadata": {},
   "outputs": [],
   "source": [
    "arr = np.array(np.random.uniform(0, 100, 50), dtype=np.float32)\n",
    "print(arr.dtype)\n",
    "converted_arr = arr.astype(np.int32)\n",
    "converted_arr.dtype"
   ]
  },
  {
   "cell_type": "markdown",
   "id": "f7dc66bf-f7c8-4d78-834b-451651f6839a",
   "metadata": {},
   "source": [
    "9. Как прочитать заданный файл?\n",
    "```\n",
    "1, 2, 3, 4, 5\n",
    "6,  ,  , 7, 8\n",
    " ,  , 9,10,11\n",
    "```"
   ]
  },
  {
   "cell_type": "code",
   "execution_count": null,
   "id": "0ecf5586-d30e-4256-ab93-7ff9bab0b34b",
   "metadata": {},
   "outputs": [],
   "source": [
    "import re\n",
    "\n",
    "\n",
    "wtf = \"\"\"1, 2, 3, 4, 5\n",
    "6,  ,  , 7, 8\n",
    " ,  , 9,10,11\"\"\"\n",
    "np.array([float(elt)\n",
    "          if elt.strip()\n",
    "          else np.nan\n",
    "          for elt in re.split(r\"[,\\n]\", wtf)])"
   ]
  },
  {
   "cell_type": "markdown",
   "id": "a66194f1-0099-4808-8ebf-5cf10eee5071",
   "metadata": {},
   "source": [
    "10. Какой эквивалент enumerate для numpy массивов?"
   ]
  },
  {
   "cell_type": "code",
   "execution_count": null,
   "id": "07ed452c-3f7c-40a7-a5b5-716602a5eed9",
   "metadata": {},
   "outputs": [],
   "source": [
    "list(np.ndenumerate(np.random.randint(low=1, high=6, size=8)))"
   ]
  },
  {
   "cell_type": "markdown",
   "id": "5bd0f757-bb01-4afb-b4f0-6821b5c5b2b7",
   "metadata": {},
   "source": [
    "### 2. Pandas"
   ]
  },
  {
   "cell_type": "markdown",
   "id": "bdffd013-e573-4318-8062-65ae1c5e07e8",
   "metadata": {},
   "source": [
    "Найдите ответы на вопросы или выполните действия с предложенным датасетом \n",
    "\n",
    "Файл: `russian-housing-market.csv`\n",
    "\n",
    "```\n",
    "price_doc - Цена продажи\n",
    "id - Id транзакции\n",
    "timestamp - Дата транзакции\n",
    "full_sq - суммарная площадь в квадратных метрах, включая лоджию, валконы и отдельные нежилые помещения\n",
    "life_sq - жилая площаль в квадратных метрах, исключая лоджии, балконы и прочие нежилые помещения\n",
    "floor - для апартаментов, этаж помещения\n",
    "max_floor - количество этажей в здании\n",
    "material - материал стен\n",
    "build_year - год постройки\n",
    "num_room - количество жилых комнат\n",
    "kitch_sq - площадь кухни\n",
    "state - состояние апартаментов\n",
    "product_type - покупка или инвестиция собственника-арендатора\n",
    "sub_area - название района\n",
    "```"
   ]
  },
  {
   "cell_type": "code",
   "execution_count": 13,
   "id": "0778ec2b-a7b2-4738-b771-bb1781986f62",
   "metadata": {},
   "outputs": [],
   "source": [
    "import pandas as pd"
   ]
  },
  {
   "cell_type": "code",
   "execution_count": null,
   "id": "bfc45614-d44b-49bd-a55c-c410a95a808f",
   "metadata": {},
   "outputs": [],
   "source": [
    "df_all = pd.read_csv(\"russian-housing-market.csv\")\n",
    "df_all.head()"
   ]
  },
  {
   "cell_type": "markdown",
   "id": "1026e8c6-513a-41e3-b2f4-68aae18b8435",
   "metadata": {},
   "source": [
    "1. Посчитайте количество записей в датасете с отсутствующей информацией о жилой площади жилого помещения"
   ]
  },
  {
   "cell_type": "code",
   "execution_count": null,
   "id": "e74655aa-b97c-42e5-b972-e0753ddc2331",
   "metadata": {},
   "outputs": [],
   "source": [
    "df_all[df_all[\"life_sq\"].isna()].shape[0]"
   ]
  },
  {
   "cell_type": "markdown",
   "id": "eee028a5-9311-4a4f-b4ac-1fb75acfb4b3",
   "metadata": {},
   "source": [
    "2. Предложите способ заменить отсутствующие значения из пункта 1 и реализуйте его. Способ нужно аргументировать(сказать почему это достаточно хорошее приближение)"
   ]
  },
  {
   "cell_type": "code",
   "execution_count": null,
   "id": "ac0fb641-96d2-4e7c-88d5-636ce3b699d2",
   "metadata": {},
   "outputs": [],
   "source": [
    "import plotly.graph_objs as go\n",
    "\n",
    "df_all[\"life_sq\"] = df_all[\"life_sq\"].median()\n",
    "\n",
    "# Заполняем медианным значением, так как это позволяет лучше обработать\n",
    "#  выбросы => приближение значений будет достаточно точным"
   ]
  },
  {
   "cell_type": "markdown",
   "id": "cd7979ba-2fa8-4fd3-986d-26cee122da1f",
   "metadata": {},
   "source": [
    "3. Какие значения имеет 25, 50 и 75 перцентили полной площади помещения"
   ]
  },
  {
   "cell_type": "code",
   "execution_count": null,
   "id": "3915f77b-116c-482b-8644-2f5f11931af9",
   "metadata": {},
   "outputs": [],
   "source": [
    "df_all[\"full_sq\"].quantile([0.25, 0.5, 0.75])"
   ]
  },
  {
   "cell_type": "markdown",
   "id": "1b69ba67-61a8-4765-9795-cfab1a09e929",
   "metadata": {},
   "source": [
    "4. Посчитайте среднюю стоимость продажи помещений с общей площадью от 50 до 70 квадратных метров"
   ]
  },
  {
   "cell_type": "code",
   "execution_count": null,
   "id": "1228d2e9-fc56-4240-95c6-c98a8b84c016",
   "metadata": {},
   "outputs": [],
   "source": [
    "df_all[(df_all[\"full_sq\"] >= 50)\n",
    "        & (df_all[\"full_sq\"] <= 70)][\"price_doc\"].mean()"
   ]
  },
  {
   "cell_type": "markdown",
   "id": "5acec4fd-f740-49a8-a5d8-562d358239c9",
   "metadata": {},
   "source": [
    "5. Какая максимальная этажность здания представлена в датасете"
   ]
  },
  {
   "cell_type": "code",
   "execution_count": null,
   "id": "cac8daef-f4e8-4c8b-b7f4-d41a6adf35ed",
   "metadata": {},
   "outputs": [],
   "source": [
    "df_all[\"max_floor\"].max()"
   ]
  },
  {
   "cell_type": "markdown",
   "id": "8d6171a9-0f75-4f3e-ac54-95d03d1f70b6",
   "metadata": {},
   "source": [
    "6. Выявите район с самым дорогим жильем"
   ]
  },
  {
   "cell_type": "code",
   "execution_count": null,
   "id": "c64d0892-2fb8-4304-966c-5cbb32b03c0a",
   "metadata": {},
   "outputs": [],
   "source": [
    "df = (df_all\n",
    "      .dropna(subset=\"price_doc\")\n",
    "      .groupby(\"sub_area\")[\"price_doc\"]\n",
    "      .mean()\n",
    "      .reset_index())\n",
    "df.loc[df[\"price_doc\"] == df[\"price_doc\"].max(), \"sub_area\"]"
   ]
  },
  {
   "cell_type": "markdown",
   "id": "d29320f9-aef8-452c-9d61-0afa72dd93b6",
   "metadata": {},
   "source": [
    "7. Посчитайте среднюю стоимость за квадратный метр жилья в Митино(Mitino)"
   ]
  },
  {
   "cell_type": "code",
   "execution_count": null,
   "id": "d04e1904-f9f3-40bd-abbd-4d53ee9f7bd2",
   "metadata": {},
   "outputs": [],
   "source": [
    "df_all[df_all[\"sub_area\"] == \"Mitino\"][\"price_doc\"].mean()"
   ]
  },
  {
   "cell_type": "markdown",
   "id": "1d447d6e-cfde-411c-9078-cd8f41f02d8b",
   "metadata": {},
   "source": [
    "8. Посчитайте среднюю площадь комнаты в Бибирево"
   ]
  },
  {
   "cell_type": "code",
   "execution_count": null,
   "id": "b30df6b1-5eca-43da-a115-1c1a3cbfd899",
   "metadata": {},
   "outputs": [],
   "source": [
    "df = df_all[df_all[\"sub_area\"] == \"Bibirevo\"].dropna(subset=[\"life_sq\", \"num_room\"])\n",
    "(df[\"life_sq\"] / df[\"num_room\"]).mean()"
   ]
  },
  {
   "cell_type": "markdown",
   "id": "c41d5d99-65f7-4d17-82ae-971ec959f327",
   "metadata": {},
   "source": [
    "9. Проанализируйте есть ли разница в цене между квартирами на 1 и 9 этажах"
   ]
  },
  {
   "cell_type": "code",
   "execution_count": null,
   "id": "275bcc04-659b-4521-a9e5-200a5f4ef674",
   "metadata": {},
   "outputs": [],
   "source": [
    "import plotly.express as px\n",
    "\n",
    "\n",
    "df = df_all[((df_all[\"floor\"] == 1) | (df_all[\"floor\"] == 9))\n",
    "             & (df_all[\"price_doc\"] <= 20 * 10**6)].dropna(subset=\"price_doc\").sort_values(by=\"price_doc\")\n",
    "fig = go.Figure()\n",
    "df_1 = df[df[\"floor\"] == 1]\n",
    "fig.add_trace(go.Histogram(x=df_1[\"price_doc\"],\n",
    "                           name=\"1st floor\",\n",
    "                           marker=dict(color=f\"rgba(10, 186, 181, 0.8)\")))\n",
    "\n",
    "df_9 = df[df[\"floor\"] == 9]\n",
    "fig.add_trace(go.Histogram(x=df_9[\"price_doc\"],\n",
    "                           name=\"9th floor\",\n",
    "                           marker=dict(color=f\"rgba(218, 112, 214, 0.5)\")))\n",
    "fig.update_layout(barmode=\"overlay\",\n",
    "                  bargap=0.2)"
   ]
  },
  {
   "cell_type": "code",
   "execution_count": 28,
   "id": "bd6f8cc9-c513-49de-91fa-fcc0eb0f0943",
   "metadata": {},
   "outputs": [],
   "source": [
    "# Да, разница есть, первые этажи, в целом, гораздо дешевле 9-х"
   ]
  },
  {
   "cell_type": "markdown",
   "id": "a1f7a5c0-259c-4837-a5d1-2dfc05e7c13e",
   "metadata": {},
   "source": [
    "10. Найдите минимальную стоимость квартиры с жилой площадью не менее 60 квадратных метров, не менее чем 3мя комнатами и не ниже чем на 5 этаже"
   ]
  },
  {
   "cell_type": "code",
   "execution_count": null,
   "id": "a2da4d57-edb4-4179-8bee-3deda6cd00e6",
   "metadata": {},
   "outputs": [],
   "source": [
    "df_all[(df_all[\"life_sq\"] >= 60)\n",
    "       & (df_all[\"num_room\"] >= 3)\n",
    "       & (df_all[\"floor\"] >= 5)][\"price_doc\"].min()"
   ]
  },
  {
   "cell_type": "markdown",
   "id": "deb4ca3a-3d8a-4205-bee9-d26fd28638b2",
   "metadata": {},
   "source": [
    "### 3. Визуализация"
   ]
  },
  {
   "cell_type": "markdown",
   "id": "f8941ce1-cbf2-465a-b013-1b84aeb999ef",
   "metadata": {},
   "source": [
    "Используя библиотеки matplotlib/sns/plotly/pandas и набор данных представленный ранее визуализируйте"
   ]
  },
  {
   "cell_type": "markdown",
   "id": "5e98ce6f-8d02-4120-ad85-241494c038d6",
   "metadata": {},
   "source": [
    "1. Как менялась средняя цена квартиры в Нагатинском Затоне(Nagatinski Zaton) с течением времени"
   ]
  },
  {
   "cell_type": "code",
   "execution_count": null,
   "id": "664666b2-17b7-49dd-a3bd-c4be9361755d",
   "metadata": {},
   "outputs": [],
   "source": [
    "df = df_all.copy()\n",
    "df = df[df[\"sub_area\"] == \"Nagatinskij Zaton\"]\n",
    "df[\"timestamp\"] = pd.to_datetime(df[\"timestamp\"], format=\"%Y-%m-%d\")\n",
    "df[\"period\"] = df[\"timestamp\"].dt.to_period(\"M\")\n",
    "df = df.groupby(\"period\")[\"price_doc\"].mean().reset_index()\n",
    "\n",
    "fig = go.Figure()\n",
    "fig.add_trace(go.Scatter(x=df[\"period\"].astype(str),\n",
    "                         y=df[\"price_doc\"]))"
   ]
  },
  {
   "cell_type": "markdown",
   "id": "4c7500bb-36ca-4ea7-bc3c-4f15afbd4c41",
   "metadata": {},
   "source": [
    "2. Постройте гистограмму распределения цен на квартиры с общей площадью более 50 кв.метров"
   ]
  },
  {
   "cell_type": "code",
   "execution_count": null,
   "id": "7325e7f8-5f00-4a82-8184-7064505f7ccd",
   "metadata": {},
   "outputs": [],
   "source": [
    "df = df_all[df_all[\"full_sq\"] >= 50]\n",
    "\n",
    "fig = go.Figure()\n",
    "fig.add_trace(go.Histogram(x=df_1[\"price_doc\"]))\n",
    "fig.update_layout(bargap=0.2)"
   ]
  },
  {
   "cell_type": "markdown",
   "id": "efdd0669-36e0-4708-ac6b-ad0d92881113",
   "metadata": {},
   "source": [
    "3. Визуализируйте количество проданных квартир в разных районах"
   ]
  },
  {
   "cell_type": "code",
   "execution_count": null,
   "id": "7504a170-04a1-4b86-924d-8d46be16fd3c",
   "metadata": {},
   "outputs": [],
   "source": [
    "df = df_all.groupby(\"sub_area\").size().reset_index(name=\"amount\").sort_values(by=\"amount\", ascending=False)\n",
    "fig = go.Figure()\n",
    "fig.add_trace(go.Bar(x=df[\"sub_area\"],\n",
    "                     y=df[\"amount\"]))\n",
    "fig.update_layout(bargap=0.2)"
   ]
  },
  {
   "cell_type": "markdown",
   "id": "b5839a48-e992-45fc-81ee-59cb5aa79dda",
   "metadata": {},
   "source": [
    "4. Постройте box plot отображающий распределение полных площадей квартир в Басманном районе"
   ]
  },
  {
   "cell_type": "code",
   "execution_count": null,
   "id": "1a942378-45ea-47a0-bac9-488960491613",
   "metadata": {},
   "outputs": [],
   "source": [
    "df = df_all[df_all[\"sub_area\"] == \"Basmannoe\"]\n",
    "\n",
    "fig = go.Figure()\n",
    "fig.add_trace(go.Box(y=df[\"full_sq\"],\n",
    "                     name=\"Full square distribution\"))"
   ]
  },
  {
   "cell_type": "markdown",
   "id": "d4c97bef-bb64-43cc-a89f-7510174492ec",
   "metadata": {},
   "source": [
    "5. Визуализируйте зависимость средней стоимости квартир в зависимости от этажа"
   ]
  },
  {
   "cell_type": "code",
   "execution_count": null,
   "id": "a1f444af-3544-432c-8dc6-bb74d4cff272",
   "metadata": {},
   "outputs": [],
   "source": [
    "df = df_all.dropna(subset=\"floor\")\n",
    "df = df.groupby(\"floor\")[\"price_doc\"].mean().reset_index()\n",
    "df[\"floor\"] = df[\"floor\"].astype(int)\n",
    "\n",
    "fig = go.Figure()\n",
    "fig.add_trace(go.Scatter(x=df[\"floor\"],\n",
    "                         y=df[\"price_doc\"]))"
   ]
  },
  {
   "cell_type": "markdown",
   "id": "a2ab764c-8ac1-4c5a-93ad-8168b0eb4934",
   "metadata": {},
   "source": [
    "6. Покажите как меняется средняя площадь квартир в зависимости от района"
   ]
  },
  {
   "cell_type": "code",
   "execution_count": null,
   "id": "6449e306-fb6c-46d4-bcd8-b6b76fbf69d2",
   "metadata": {},
   "outputs": [],
   "source": [
    "df = (df_all\n",
    "      .dropna(subset=\"full_sq\")\n",
    "      .groupby(\"sub_area\")[\"full_sq\"]\n",
    "      .mean()\n",
    "      .reset_index()\n",
    "      .sort_values(by=\"full_sq\", ascending=False))\n",
    "\n",
    "fig = go.Figure()\n",
    "fig.add_trace(go.Bar(x=df[\"sub_area\"],\n",
    "                     y=df[\"full_sq\"]))\n",
    "fig.update_layout(yaxis=dict(range=[30, df[\"full_sq\"].max() + 5]))"
   ]
  },
  {
   "cell_type": "markdown",
   "id": "16afdeec-8c90-4ed1-a599-e0b1343bbf5c",
   "metadata": {},
   "source": [
    "7. Постройте график изменения медианной цены на квартиру менее 50 кв. метров за период с 2011 до 2014 года*\n",
    "\n",
    "\\* Задание на доп. балл"
   ]
  }
 ],
 "metadata": {
  "kernelspec": {
   "display_name": "Python 3 (ipykernel)",
   "language": "python",
   "name": "python3"
  },
  "language_info": {
   "codemirror_mode": {
    "name": "ipython",
    "version": 3
   },
   "file_extension": ".py",
   "mimetype": "text/x-python",
   "name": "python",
   "nbconvert_exporter": "python",
   "pygments_lexer": "ipython3",
   "version": "3.10.11"
  }
 },
 "nbformat": 4,
 "nbformat_minor": 5
}
